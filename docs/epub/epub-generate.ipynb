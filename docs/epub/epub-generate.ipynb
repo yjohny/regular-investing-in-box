{
 "cells": [
  {
   "cell_type": "code",
   "execution_count": 1,
   "metadata": {},
   "outputs": [
    {
     "name": "stdout",
     "output_type": "stream",
     "text": [
      "pandoc -o OnRegularInvesting_cn.epub cn.html --toc --toc-depth=3 --epub-cover-image=../images/cover_cn.png --epub-chapter-level=3 --epub-metadata=metadata_cn.xml --css=style.css\n",
      "pandoc -o OnRegularInvesting_en.epub en.html --toc --toc-depth=3 --epub-cover-image=../images/cover_en.png --epub-chapter-level=3 --epub-metadata=metadata_en.xml --css=style.css\n"
     ]
    }
   ],
   "source": [
    "import re\n",
    "import os\n",
    "import wget\n",
    "import pypandoc\n",
    "\n",
    "title_english = 'On Regular Investing'\n",
    "title_chinese = '定投改变命运'\n",
    "author_english = 'Xiaolai Li & John Gordon'\n",
    "author_chinese = '李笑来'\n",
    "metadata_english = 'metadata_en.txt'\n",
    "metadata_chinese = 'metadata_cn.txt'\n",
    "\n",
    "\n",
    "wget.download('https://raw.githubusercontent.com/xiaolai/regular-investing-in-box/master/docs/cn/README.md',\n",
    "             'cn.md')\n",
    "wget.download('https://raw.githubusercontent.com/xiaolai/regular-investing-in-box/master/docs/en/README.md',\n",
    "             'en.md')\n",
    "\n",
    "files = ['cn', 'en']\n",
    "\n",
    "for file in files:\n",
    "    with open(f'{file}.md', 'r') as f:\n",
    "        content = f.read() \n",
    "        content = re.sub(r'    <img src=\"../images/coverimage.gif\" />', '![](../images/coverimage.gif)', content)\n",
    "\n",
    "    xhtml_head = f\"\"\"<?xml version=\"1.0\" encoding=\"utf-8\" standalone=\"no\"?>\n",
    "    <!DOCTYPE html PUBLIC \"-//W3C//DTD XHTML 1.1//EN\"\n",
    "    \"http://www.w3.org/TR/xhtml11/DTD/xhtml11.dtd\">\n",
    "\n",
    "    <html xmlns=\"http://www.w3.org/1999/xhtml\">\n",
    "      <head>\n",
    "          <link href=\"style.css\" rel=\"stylesheet\">\n",
    "          <title>{title_chinese if file=='cn' else title_english}</title>\n",
    "      </head>\n",
    "      <body>\n",
    "    \"\"\"\n",
    "\n",
    "    xhtml_foot = \"\"\"\n",
    "      </body>\n",
    "    </html>\n",
    "    \"\"\"   \n",
    "\n",
    "    with open(f'{file}.html', 'a') as hf:\n",
    "        hf.write(xhtml_head + pypandoc.convert_text(content, 'html', format='md') + xhtml_foot)\n",
    "\n",
    "#     os.system(f'cd {os.getcwd()} && pandoc -o OnRegularInvesting_{file}.epub title_{file}.txt {file}.html --toc --toc-depth=3 --epub-cover-image=../images/cover.png --epub-chapter-level=3 --epub-metadata=metadata_{file}.xml --css=style.css')\n",
    "    print(f'pandoc -o OnRegularInvesting_{file}.epub {file}.html --toc --toc-depth=3 --epub-cover-image=../images/cover_{file}.png --epub-chapter-level=3 --epub-metadata=metadata_{file}.xml --css=style.css')\n"
   ]
  }
 ],
 "metadata": {
  "kernelspec": {
   "display_name": "Python 3",
   "language": "python",
   "name": "python3"
  },
  "language_info": {
   "codemirror_mode": {
    "name": "ipython",
    "version": 3
   },
   "file_extension": ".py",
   "mimetype": "text/x-python",
   "name": "python",
   "nbconvert_exporter": "python",
   "pygments_lexer": "ipython3",
   "version": "3.7.4"
  }
 },
 "nbformat": 4,
 "nbformat_minor": 4
}
